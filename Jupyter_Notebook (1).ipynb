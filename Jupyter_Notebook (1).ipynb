{
 "cells": [
  {
   "cell_type": "markdown",
   "metadata": {
    "tags": []
   },
   "source": [
    "<center>\n",
    "    <img src=\"https://s3-api.us-geo.objectstorage.softlayer.net/cf-courses-data/CognitiveClass/Logos/organization_logo/organization_logo.png\" width=\"300\" alt=\"cognitiveclass.ai logo\"  />\n",
    "</center>\n"
   ]
  },
  {
   "cell_type": "markdown",
   "metadata": {
    "tags": []
   },
   "source": [
    "#### Add your code below following the instructions given in the course\n"
   ]
  },
  {
   "cell_type": "markdown",
   "metadata": {},
   "source": [
    "<H1>My Jupyter Notebook on IBM Watson Studio<H1>"
   ]
  },
  {
   "cell_type": "markdown",
   "metadata": {},
   "source": [
    "**Sakshi_Tripathi**\n",
    "<br>\n",
    "Student at KJSCE"
   ]
  },
  {
   "cell_type": "markdown",
   "metadata": {},
   "source": [
    "*I am interested in data science because data i want to become a datascietist under the industry of Real Estate ,I want to be able help clients to make make best real Estate investments having huge command of Data science it will personally help me to make good business decisions.*"
   ]
  },
  {
   "cell_type": "markdown",
   "metadata": {},
   "source": [
    "<h3> The Following Code Shows Addition Operation </h3>"
   ]
  },
  {
   "cell_type": "code",
   "execution_count": 1,
   "metadata": {},
   "outputs": [
    {
     "name": "stdout",
     "output_type": "stream",
     "text": [
      "2\n"
     ]
    }
   ],
   "source": [
    "a = 1\n",
    "b = 1\n",
    "ans = a+b\n",
    "print(ans)"
   ]
  },
  {
   "cell_type": "markdown",
   "metadata": {},
   "source": [
    "<html>\\n\",\n",
    "    \"<header>\\n\",\n",
    "    \"</header>\\n\",\n",
    "    \"\\n\",\n",
    "    \"<body>\\n\",\n",
    "    \"    <section>\\n\",\n",
    "    \"        <h1> My favourite Fruits</h1>\\n\",\n",
    "    \"        <ol>\\n\",\n",
    "    \"            <li>Apple</li>\\n\",\n",
    "    \"            <li>Banana</li>\\n\",\n",
    "    \"            <li>Orange</li>\\n\",\n",
    "    \"            <li>Mango</li>\\n\",\n",
    "    \"            <li>Grapes</li>\\n\",\n",
    "    \"        </ol>\\n\",\n",
    "    \"        <hr>\\n\",\n",
    "    \"        <table border=\\\"1px\\\">\\n\",\n",
    "    \"            <tr>\\n\",\n",
    "    \"                <td><b>Needs</b></td>\\n\",\n",
    "    \"                <td><b>Wants</b></td>\\n\",\n",
    "    \"            </tr>\\n\",\n",
    "    \"            <tr>\\n\",\n",
    "    \"                <td>Water</td>\\n\",\n",
    "    \"                <td>Car</td>\\n\",\n",
    "    \"            </tr>\\n\",\n",
    "    \"            <tr>\\n\",\n",
    "    \"                <td>Food</td>\\n\",\n",
    "    \"                <td>Phone</td>\\n\",\n",
    "    \"            </tr>\\n\",\n",
    "    \"            <tr>\\n\",\n",
    "    \"                <td>Education</td>\\n\",\n",
    "    \"                <td>Computer</td>\\n\",\n",
    "    \"            </tr>\\n\",\n",
    "    \"            <tr>\\n\",\n",
    "    \"                <td>Medicine</td>\\n\",\n",
    "    \"                <td>Television</td>\\n\",\n",
    "    \"            </tr>\\n\",\n",
    "    \"        </table>\\n\",\n",
    "    \"        <br>\\n\",\n",
    "    \"        <hr>\\n\",\n",
    "    \"    </section>\\n\",\n",
    "    </body>\\n\",\n",
    "    </html>"
   ]
  },
  {
   "cell_type": "code",
   "execution_count": null,
   "metadata": {},
   "outputs": [],
   "source": []
  },
  {
   "cell_type": "code",
   "execution_count": null,
   "metadata": {},
   "outputs": [],
   "source": []
  },
  {
   "cell_type": "code",
   "execution_count": null,
   "metadata": {},
   "outputs": [],
   "source": []
  }
 ],
 "metadata": {
  "kernelspec": {
   "display_name": "Python",
   "language": "python",
   "name": "conda-env-python-py"
  },
  "language_info": {
   "codemirror_mode": {
    "name": "ipython",
    "version": 3
   },
   "file_extension": ".py",
   "mimetype": "text/x-python",
   "name": "python",
   "nbconvert_exporter": "python",
   "pygments_lexer": "ipython3",
   "version": "3.7.12"
  }
 },
 "nbformat": 4,
 "nbformat_minor": 4
}
